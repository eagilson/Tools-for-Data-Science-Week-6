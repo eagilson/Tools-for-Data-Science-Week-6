{
 "cells": [
  {
   "cell_type": "markdown",
   "id": "ac9d91d9-9e1d-42bf-a36b-b7d03b032c83",
   "metadata": {},
   "source": [
    "# Data Science Tools and Ecosystem"
   ]
  },
  {
   "cell_type": "markdown",
   "id": "52025346-f908-4ddd-8d40-bcac55ab406e",
   "metadata": {},
   "source": [
    "In this notebook, Data Science Tools and Ecosystem are summarized."
   ]
  },
  {
   "cell_type": "markdown",
   "id": "2bca63bd-ffe2-44da-a3e1-6b27870f863c",
   "metadata": {},
   "source": [
    "Some of the popular languages that Data Scientists use are:\n",
    "\n",
    "1. Python\n",
    "2. R\n",
    "3. Julia"
   ]
  },
  {
   "cell_type": "markdown",
   "id": "302d463b-02fd-4ee2-bffd-9c252df930b5",
   "metadata": {},
   "source": [
    "Some of the commonly used libraries used by Data Scientists include:\n",
    "\n",
    "* ggplot\n",
    "* NumPy\n",
    "* Pandas"
   ]
  },
  {
   "cell_type": "markdown",
   "id": "e9fcb817-2ed1-44ca-8dde-3945c16c60d4",
   "metadata": {},
   "source": [
    "| Data Science Tools |\n",
    "| ------------------ |\n",
    "| Jupyter |\n",
    "| Rstudio |\n",
    "| Git |"
   ]
  },
  {
   "cell_type": "markdown",
   "id": "bafdaa63-5346-4130-b537-973042cf0d15",
   "metadata": {},
   "source": [
    "### Below are a few examples of evaluating arithmetic expressions in Python"
   ]
  },
  {
   "cell_type": "code",
   "execution_count": 3,
   "id": "a7f038a4-2a86-4238-8f4d-a89268d95e6d",
   "metadata": {},
   "outputs": [
    {
     "data": {
      "text/plain": [
       "17"
      ]
     },
     "execution_count": 3,
     "metadata": {},
     "output_type": "execute_result"
    }
   ],
   "source": [
    "(3*4)+5\n",
    "# This a simple arithmetic expression to mutiply then add integers"
   ]
  },
  {
   "cell_type": "code",
   "execution_count": 5,
   "id": "545b1adb-1182-48ae-9ddb-b1a225c47bf4",
   "metadata": {},
   "outputs": [
    {
     "name": "stdout",
     "output_type": "stream",
     "text": [
      "3.3333333333333335\n"
     ]
    }
   ],
   "source": [
    "Min = 200\n",
    "Hours = 200/60\n",
    "print(Hours)\n",
    "# This will convert 200 minutes to hours by diving by 60"
   ]
  },
  {
   "cell_type": "markdown",
   "id": "cc946652-02be-40db-bdb1-3ee005cb8e0e",
   "metadata": {},
   "source": [
    "**Objectives:**\n",
    "* List popular languages for Data Science\n",
    "* List popular libraries for Data Science\n",
    "* Perform basic Pythos code"
   ]
  },
  {
   "cell_type": "markdown",
   "id": "7c8835c4-8c90-439b-8133-8107ffa00ecf",
   "metadata": {},
   "source": [
    "## Author \n",
    "Eric Gilson"
   ]
  }
 ],
 "metadata": {
  "kernelspec": {
   "display_name": "Python 3 (ipykernel)",
   "language": "python",
   "name": "python3"
  },
  "language_info": {
   "codemirror_mode": {
    "name": "ipython",
    "version": 3
   },
   "file_extension": ".py",
   "mimetype": "text/x-python",
   "name": "python",
   "nbconvert_exporter": "python",
   "pygments_lexer": "ipython3",
   "version": "3.12.3"
  }
 },
 "nbformat": 4,
 "nbformat_minor": 5
}
